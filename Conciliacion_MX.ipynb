{
 "cells": [
  {
   "cell_type": "markdown",
   "id": "10bfbd31",
   "metadata": {},
   "source": [
    "## CONCILIACIÓN RETENCIONES MX"
   ]
  },
  {
   "cell_type": "markdown",
   "id": "d7175db1",
   "metadata": {},
   "source": [
    "**ENTRADAS**\n",
    "\n",
    "1. Base de datos Liliana \n",
    "\n",
    "2. Movimientos MX (\n",
    "\n",
    "*query\n",
    ")*\n",
    "\n",
    "3. Ajustes manuales MX (\n",
    "\n",
    "*query*\n",
    "\n",
    "4. Compensaciones MX (\n",
    "\n",
    "query)\n",
    "\n",
    "**PROCESO**\n",
    "\n",
    "1. Encontrar ajustes automáticos y manuales hechos al valor de la retención de cada RT en la base de Liliana \n",
    "\n",
    "2. Encontrar compensaciones hechas al valor de la retención de cada RT en la base de Liliana \n",
    "\n",
    "3. Hallar la diferencia total entre RET IVA en base de Liliana en relación a los ajustes y compensaciones \n",
    "\n",
    "4. Hallar la diferencia total entre RET ISR en base de Liliana en relación a los ajustes y compensaciones\n",
    "\n",
    "5. Hallar la diferencia total entre TOTAL RET en base de Liliana en relación a los ajustes y compensaciones\n",
    "\n",
    "\n",
    "**SALIDAS** \n",
    "\n",
    "1. Archivo de excel que contenga las diferencias entre los valores descritos en el proceso "
   ]
  },
  {
   "cell_type": "markdown",
   "id": "b30170a4",
   "metadata": {},
   "source": [
    "## 1. Cargar bases de datos "
   ]
  },
  {
   "cell_type": "markdown",
   "id": "e9c3de16",
   "metadata": {},
   "source": [
    "**Librerias**"
   ]
  },
  {
   "cell_type": "code",
   "execution_count": 1,
   "id": "8c94b0f1",
   "metadata": {},
   "outputs": [],
   "source": [
    "#Importar librerias \n",
    "import pandas as pd \n",
    "import numpy as np\n",
    "import snowflake\n",
    "import sqlalchemy\n",
    "from snowflake.sqlalchemy import URL\n",
    "from sqlalchemy import create_engine"
   ]
  },
  {
   "cell_type": "markdown",
   "id": "a708871b",
   "metadata": {},
   "source": [
    "**CREDENCIALES SNOWFLAKE**"
   ]
  },
  {
   "cell_type": "code",
   "execution_count": 2,
   "id": "a9a98b93",
   "metadata": {},
   "outputs": [],
   "source": [
    "#Credenciales no ingresadas en repositorio publico por clausula de privacidad\n",
    "snowflake_credentials = {'url' : ,\n",
    "'account' : ,\n",
    "'user':,\n",
    "\"authenticator\": \"externalbrowser\",  \n",
    "#\"password\":\"0lXVwz8hV*vEA!\",                            \n",
    "'warehouse': ,\n",
    "'database' : \n",
    "}"
   ]
  },
  {
   "cell_type": "code",
   "execution_count": 3,
   "id": "e858471e",
   "metadata": {},
   "outputs": [
    {
     "name": "stdout",
     "output_type": "stream",
     "text": [
      "Initiating login request with your identity provider. A browser window should have opened for you to complete the login. If you can't see it, check existing browser windows, or your OS settings. Press CTRL+C to abort and try again...\n"
     ]
    }
   ],
   "source": [
    "engine = sqlalchemy.create_engine(URL(**snowflake_credentials), encoding = 'latin-1')\n",
    "connection = engine.connect()"
   ]
  },
  {
   "cell_type": "markdown",
   "id": "5cbe047c",
   "metadata": {},
   "source": [
    "**DEFINICIÓN DE LAS FECHAS**"
   ]
  },
  {
   "cell_type": "code",
   "execution_count": 4,
   "id": "8c47903c",
   "metadata": {},
   "outputs": [
    {
     "name": "stdout",
     "output_type": "stream",
     "text": [
      "Fecha de inicio: 2021-09-01\n",
      "Fecha de fin: 2021-09-30\n"
     ]
    }
   ],
   "source": [
    "fecha_inicio = input('Fecha de inicio: ')\n",
    "fecha_final = input('Fecha de fin: ')"
   ]
  },
  {
   "cell_type": "markdown",
   "id": "0285857a",
   "metadata": {},
   "source": [
    "**QUERY DE MOVIMIENTOS**"
   ]
  },
  {
   "cell_type": "code",
   "execution_count": 5,
   "id": "2825e34c",
   "metadata": {},
   "outputs": [],
   "source": [
    "#PRUEBA\n",
    "warehouse = pd.read_sql_query(\"USE NOMBRE_WAREHOUSE\",connection)\n",
    "movimientos = pd.read_sql_query(\n",
    "f'''query''', connection)"
   ]
  },
  {
   "cell_type": "code",
   "execution_count": 7,
   "id": "8a7278b9",
   "metadata": {
    "scrolled": true
   },
   "outputs": [],
   "source": [
    "movimientos_agrupados = pd.pivot_table(movimientos, values='valor_movimientos', index=['storekeeper_id'],\n",
    "                    columns=['ajuste'], aggfunc=np.sum, fill_value=0)"
   ]
  },
  {
   "cell_type": "code",
   "execution_count": 8,
   "id": "00d7edb9",
   "metadata": {},
   "outputs": [
    {
     "data": {
      "text/html": [
       "<div>\n",
       "<style scoped>\n",
       "    .dataframe tbody tr th:only-of-type {\n",
       "        vertical-align: middle;\n",
       "    }\n",
       "\n",
       "    .dataframe tbody tr th {\n",
       "        vertical-align: top;\n",
       "    }\n",
       "\n",
       "    .dataframe thead th {\n",
       "        text-align: right;\n",
       "    }\n",
       "</style>\n",
       "<table border=\"1\" class=\"dataframe\">\n",
       "  <thead>\n",
       "    <tr style=\"text-align: right;\">\n",
       "      <th>ajuste</th>\n",
       "      <th>isr_automatico</th>\n",
       "      <th>isr_manual_movimientos</th>\n",
       "      <th>isr_penalty</th>\n",
       "      <th>iva_automatico</th>\n",
       "      <th>iva_manual_movimientos</th>\n",
       "      <th>iva_penalty</th>\n",
       "      <th>state_tax</th>\n",
       "    </tr>\n",
       "    <tr>\n",
       "      <th>storekeeper_id</th>\n",
       "      <th></th>\n",
       "      <th></th>\n",
       "      <th></th>\n",
       "      <th></th>\n",
       "      <th></th>\n",
       "      <th></th>\n",
       "      <th></th>\n",
       "    </tr>\n",
       "  </thead>\n",
       "  <tbody>\n",
       "    <tr>\n",
       "      <th>12</th>\n",
       "      <td>-8.59</td>\n",
       "      <td>0.00</td>\n",
       "      <td>0.00</td>\n",
       "      <td>-21.88</td>\n",
       "      <td>-0.01</td>\n",
       "      <td>0.00</td>\n",
       "      <td>0.0</td>\n",
       "    </tr>\n",
       "    <tr>\n",
       "      <th>64</th>\n",
       "      <td>-27.87</td>\n",
       "      <td>-0.31</td>\n",
       "      <td>0.00</td>\n",
       "      <td>-67.00</td>\n",
       "      <td>0.00</td>\n",
       "      <td>0.00</td>\n",
       "      <td>0.0</td>\n",
       "    </tr>\n",
       "    <tr>\n",
       "      <th>99</th>\n",
       "      <td>-405.07</td>\n",
       "      <td>-20.91</td>\n",
       "      <td>0.00</td>\n",
       "      <td>-997.62</td>\n",
       "      <td>-55.70</td>\n",
       "      <td>0.00</td>\n",
       "      <td>0.0</td>\n",
       "    </tr>\n",
       "    <tr>\n",
       "      <th>138</th>\n",
       "      <td>-23.90</td>\n",
       "      <td>0.00</td>\n",
       "      <td>0.00</td>\n",
       "      <td>-91.03</td>\n",
       "      <td>-0.03</td>\n",
       "      <td>0.00</td>\n",
       "      <td>0.0</td>\n",
       "    </tr>\n",
       "    <tr>\n",
       "      <th>139</th>\n",
       "      <td>-189.52</td>\n",
       "      <td>-30.00</td>\n",
       "      <td>0.00</td>\n",
       "      <td>-386.53</td>\n",
       "      <td>-104.14</td>\n",
       "      <td>0.00</td>\n",
       "      <td>0.0</td>\n",
       "    </tr>\n",
       "    <tr>\n",
       "      <th>...</th>\n",
       "      <td>...</td>\n",
       "      <td>...</td>\n",
       "      <td>...</td>\n",
       "      <td>...</td>\n",
       "      <td>...</td>\n",
       "      <td>...</td>\n",
       "      <td>...</td>\n",
       "    </tr>\n",
       "    <tr>\n",
       "      <th>656230</th>\n",
       "      <td>-1.53</td>\n",
       "      <td>0.00</td>\n",
       "      <td>-13.04</td>\n",
       "      <td>-2.63</td>\n",
       "      <td>0.00</td>\n",
       "      <td>-2.63</td>\n",
       "      <td>0.0</td>\n",
       "    </tr>\n",
       "    <tr>\n",
       "      <th>656233</th>\n",
       "      <td>-2.53</td>\n",
       "      <td>0.00</td>\n",
       "      <td>-21.55</td>\n",
       "      <td>-6.44</td>\n",
       "      <td>0.00</td>\n",
       "      <td>-6.44</td>\n",
       "      <td>0.0</td>\n",
       "    </tr>\n",
       "    <tr>\n",
       "      <th>656245</th>\n",
       "      <td>-1.49</td>\n",
       "      <td>0.00</td>\n",
       "      <td>-12.63</td>\n",
       "      <td>-3.64</td>\n",
       "      <td>0.00</td>\n",
       "      <td>-3.64</td>\n",
       "      <td>0.0</td>\n",
       "    </tr>\n",
       "    <tr>\n",
       "      <th>656289</th>\n",
       "      <td>-1.27</td>\n",
       "      <td>0.00</td>\n",
       "      <td>-10.85</td>\n",
       "      <td>-3.65</td>\n",
       "      <td>0.00</td>\n",
       "      <td>-3.65</td>\n",
       "      <td>0.0</td>\n",
       "    </tr>\n",
       "    <tr>\n",
       "      <th>656291</th>\n",
       "      <td>-2.25</td>\n",
       "      <td>0.00</td>\n",
       "      <td>-19.16</td>\n",
       "      <td>-6.96</td>\n",
       "      <td>0.00</td>\n",
       "      <td>-6.96</td>\n",
       "      <td>0.0</td>\n",
       "    </tr>\n",
       "  </tbody>\n",
       "</table>\n",
       "<p>68896 rows × 7 columns</p>\n",
       "</div>"
      ],
      "text/plain": [
       "ajuste          isr_automatico  isr_manual_movimientos  isr_penalty  \\\n",
       "storekeeper_id                                                        \n",
       "12                       -8.59                    0.00         0.00   \n",
       "64                      -27.87                   -0.31         0.00   \n",
       "99                     -405.07                  -20.91         0.00   \n",
       "138                     -23.90                    0.00         0.00   \n",
       "139                    -189.52                  -30.00         0.00   \n",
       "...                        ...                     ...          ...   \n",
       "656230                   -1.53                    0.00       -13.04   \n",
       "656233                   -2.53                    0.00       -21.55   \n",
       "656245                   -1.49                    0.00       -12.63   \n",
       "656289                   -1.27                    0.00       -10.85   \n",
       "656291                   -2.25                    0.00       -19.16   \n",
       "\n",
       "ajuste          iva_automatico  iva_manual_movimientos  iva_penalty  state_tax  \n",
       "storekeeper_id                                                                  \n",
       "12                      -21.88                   -0.01         0.00        0.0  \n",
       "64                      -67.00                    0.00         0.00        0.0  \n",
       "99                     -997.62                  -55.70         0.00        0.0  \n",
       "138                     -91.03                   -0.03         0.00        0.0  \n",
       "139                    -386.53                 -104.14         0.00        0.0  \n",
       "...                        ...                     ...          ...        ...  \n",
       "656230                   -2.63                    0.00        -2.63        0.0  \n",
       "656233                   -6.44                    0.00        -6.44        0.0  \n",
       "656245                   -3.64                    0.00        -3.64        0.0  \n",
       "656289                   -3.65                    0.00        -3.65        0.0  \n",
       "656291                   -6.96                    0.00        -6.96        0.0  \n",
       "\n",
       "[68896 rows x 7 columns]"
      ]
     },
     "execution_count": 8,
     "metadata": {},
     "output_type": "execute_result"
    }
   ],
   "source": [
    "movimientos_agrupados"
   ]
  },
  {
   "cell_type": "code",
   "execution_count": 9,
   "id": "00e25139",
   "metadata": {},
   "outputs": [],
   "source": [
    "movimientos_agrupados.to_excel('movimientos_agrupados.xlsx')"
   ]
  },
  {
   "cell_type": "markdown",
   "id": "5cfb482e",
   "metadata": {},
   "source": [
    "**BASE DE LILIANA**"
   ]
  },
  {
   "cell_type": "code",
   "execution_count": 10,
   "id": "08570d8f",
   "metadata": {},
   "outputs": [
    {
     "name": "stdout",
     "output_type": "stream",
     "text": [
      "Número mes revision:09\n"
     ]
    }
   ],
   "source": [
    "mes_bd = input(\"Número mes revision:\")"
   ]
  },
  {
   "cell_type": "code",
   "execution_count": 11,
   "id": "7b64c7b4",
   "metadata": {},
   "outputs": [],
   "source": [
    "bd_liliana = pd.read_csv(f'bd_liliana_{mes_bd}.csv', sep = ';')"
   ]
  },
  {
   "cell_type": "code",
   "execution_count": 12,
   "id": "82059275",
   "metadata": {},
   "outputs": [
    {
     "name": "stdout",
     "output_type": "stream",
     "text": [
      "<class 'pandas.core.frame.DataFrame'>\n",
      "RangeIndex: 65659 entries, 0 to 65658\n",
      "Data columns (total 8 columns):\n",
      " #   Column          Non-Null Count  Dtype  \n",
      "---  ------          --------------  -----  \n",
      " 0   storekeeper_id  65659 non-null  int64  \n",
      " 1   concat          65659 non-null  object \n",
      " 2   nombre          65659 non-null  object \n",
      " 3   Penalizado      65659 non-null  object \n",
      " 4   Facturado       65659 non-null  object \n",
      " 5   RET_ISR         65659 non-null  float64\n",
      " 6   RET_IVA         65659 non-null  float64\n",
      " 7   Error           10244 non-null  object \n",
      "dtypes: float64(2), int64(1), object(5)\n",
      "memory usage: 4.0+ MB\n"
     ]
    }
   ],
   "source": [
    "bd_liliana.info()"
   ]
  },
  {
   "cell_type": "markdown",
   "id": "6fa4941d",
   "metadata": {},
   "source": [
    "**AJUSTES MANUALES** "
   ]
  },
  {
   "cell_type": "code",
   "execution_count": 13,
   "id": "5019d08e",
   "metadata": {},
   "outputs": [
    {
     "name": "stdout",
     "output_type": "stream",
     "text": [
      "Mes de los ajustes(primera en mayuscula): Septiembre\n"
     ]
    }
   ],
   "source": [
    "mes = input('Mes de los ajustes(primera en mayuscula): ')"
   ]
  },
  {
   "cell_type": "code",
   "execution_count": 14,
   "id": "6e1db415",
   "metadata": {},
   "outputs": [
    {
     "name": "stdout",
     "output_type": "stream",
     "text": [
      "Fecha inicio ajustes: 2021-09-01\n",
      "Fecha final ajustes: 2021-09-30\n"
     ]
    }
   ],
   "source": [
    "fecha_inicio_ajustes = input('Fecha inicio ajustes: ')\n",
    "fecha_final_ajustes = input('Fecha final ajustes: ')"
   ]
  },
  {
   "cell_type": "code",
   "execution_count": 15,
   "id": "3e62ae0a",
   "metadata": {},
   "outputs": [],
   "source": [
    "warehouse = pd.read_sql_query(\"USE WAREHOUSE PAGOS_ANALYSTS\",connection)\n",
    "ajustes_manuales = pd.read_sql_query(\n",
    "f'''query\n",
    "''', connection)"
   ]
  },
  {
   "cell_type": "code",
   "execution_count": 16,
   "id": "463c72b6",
   "metadata": {},
   "outputs": [],
   "source": [
    "ajustes_agrupados = pd.pivot_table(ajustes_manuales, values='valor_ajustes_manuales', index=['storekeeper_id'],\n",
    "                    columns=['tipo_ajuste'], aggfunc=np.sum, fill_value=0)"
   ]
  },
  {
   "cell_type": "code",
   "execution_count": 18,
   "id": "e34f99c4",
   "metadata": {},
   "outputs": [],
   "source": [
    "ajustes_agrupados.to_excel('ajustes_agrupados.xlsx')"
   ]
  },
  {
   "cell_type": "markdown",
   "id": "028ae2fb",
   "metadata": {},
   "source": [
    "**COMPENSACIONES**"
   ]
  },
  {
   "cell_type": "code",
   "execution_count": 19,
   "id": "683dd5f6",
   "metadata": {},
   "outputs": [
    {
     "name": "stdout",
     "output_type": "stream",
     "text": [
      "Mes inicio compensaciones: 2021-09-01\n",
      "Mes final compensaciones: 2021-09-30\n"
     ]
    }
   ],
   "source": [
    "mes_inicio_compensaciones = input(\"Mes inicio compensaciones: \")\n",
    "mes_final_compensaciones = input(\"Mes final compensaciones: \")"
   ]
  },
  {
   "cell_type": "code",
   "execution_count": 20,
   "id": "bfc98dda",
   "metadata": {},
   "outputs": [],
   "source": [
    "warehouse = pd.read_sql_query(\"USE WAREHOUSE PAGOS_ANALYSTS\",connection)\n",
    "compensaciones = pd.read_sql_query(\n",
    "f'''query''', connection)\n"
   ]
  },
  {
   "cell_type": "code",
   "execution_count": 22,
   "id": "608c7f5e",
   "metadata": {},
   "outputs": [],
   "source": [
    "compensaciones_agrupadas = pd.pivot_table(compensaciones, values='valor_compensacion', index=['storekeeper_id'],\n",
    "                    columns=['tipo_compensacion'], aggfunc=np.sum, fill_value=0)"
   ]
  },
  {
   "cell_type": "code",
   "execution_count": 23,
   "id": "449e48d3",
   "metadata": {},
   "outputs": [],
   "source": [
    "compensaciones_agrupadas.to_excel('compensaciones_agrupadas.xlsx')"
   ]
  },
  {
   "cell_type": "markdown",
   "id": "c46cb3c4",
   "metadata": {},
   "source": [
    "## 2. Realizar cruces de la bases de datos"
   ]
  },
  {
   "cell_type": "code",
   "execution_count": 26,
   "id": "70a0fbab",
   "metadata": {},
   "outputs": [
    {
     "name": "stdout",
     "output_type": "stream",
     "text": [
      "<class 'pandas.core.frame.DataFrame'>\n",
      "RangeIndex: 65659 entries, 0 to 65658\n",
      "Data columns (total 8 columns):\n",
      " #   Column          Non-Null Count  Dtype  \n",
      "---  ------          --------------  -----  \n",
      " 0   storekeeper_id  65659 non-null  int64  \n",
      " 1   concat          65659 non-null  object \n",
      " 2   nombre          65659 non-null  object \n",
      " 3   Penalizado      65659 non-null  object \n",
      " 4   Facturado       65659 non-null  object \n",
      " 5   RET_ISR         65659 non-null  float64\n",
      " 6   RET_IVA         65659 non-null  float64\n",
      " 7   Error           10244 non-null  object \n",
      "dtypes: float64(2), int64(1), object(5)\n",
      "memory usage: 4.0+ MB\n"
     ]
    }
   ],
   "source": [
    "bd_liliana.info()"
   ]
  },
  {
   "cell_type": "code",
   "execution_count": 27,
   "id": "9b55210a",
   "metadata": {},
   "outputs": [],
   "source": [
    "bdliliana_movimientos = bd_liliana.merge(movimientos_agrupados,how = 'left',left_on='storekeeper_id',right_on='storekeeper_id')"
   ]
  },
  {
   "cell_type": "code",
   "execution_count": 30,
   "id": "6bf672b9",
   "metadata": {},
   "outputs": [],
   "source": [
    "bdliliana_movimientos_ajustes = bdliliana_movimientos.merge(ajustes_agrupados,how='left', left_on='storekeeper_id', right_on='storekeeper_id')"
   ]
  },
  {
   "cell_type": "code",
   "execution_count": 32,
   "id": "ce118c9a",
   "metadata": {},
   "outputs": [],
   "source": [
    "tabla_final = bdliliana_movimientos_ajustes.merge(compensaciones_agrupadas,how='left',left_on='storekeeper_id',right_on='storekeeper_id') "
   ]
  },
  {
   "cell_type": "code",
   "execution_count": 33,
   "id": "1504ac4d",
   "metadata": {},
   "outputs": [],
   "source": [
    "tabla_final.fillna(0,inplace=True)"
   ]
  },
  {
   "cell_type": "markdown",
   "id": "fcfb2285",
   "metadata": {},
   "source": [
    "## 3. Organizar valores de los campos "
   ]
  },
  {
   "cell_type": "code",
   "execution_count": 35,
   "id": "1cf2c990",
   "metadata": {},
   "outputs": [
    {
     "name": "stdout",
     "output_type": "stream",
     "text": [
      "<class 'pandas.core.frame.DataFrame'>\n",
      "Int64Index: 65659 entries, 0 to 65658\n",
      "Data columns (total 19 columns):\n",
      " #   Column                  Non-Null Count  Dtype  \n",
      "---  ------                  --------------  -----  \n",
      " 0   storekeeper_id          65659 non-null  int64  \n",
      " 1   concat                  65659 non-null  object \n",
      " 2   nombre                  65659 non-null  object \n",
      " 3   Penalizado              65659 non-null  object \n",
      " 4   Facturado               65659 non-null  object \n",
      " 5   RET_ISR                 65659 non-null  float64\n",
      " 6   RET_IVA                 65659 non-null  float64\n",
      " 7   Error                   65659 non-null  object \n",
      " 8   isr_automatico          65659 non-null  float64\n",
      " 9   isr_manual_movimientos  65659 non-null  float64\n",
      " 10  isr_penalty             65659 non-null  float64\n",
      " 11  iva_automatico          65659 non-null  float64\n",
      " 12  iva_manual_movimientos  65659 non-null  float64\n",
      " 13  iva_penalty             65659 non-null  float64\n",
      " 14  state_tax               65659 non-null  float64\n",
      " 15  isr_ajustes_manual      65659 non-null  float64\n",
      " 16  iva_ajustes_manual      65659 non-null  float64\n",
      " 17  isr_compensacion        65659 non-null  float64\n",
      " 18  iva_compensacion        65659 non-null  float64\n",
      "dtypes: float64(13), int64(1), object(5)\n",
      "memory usage: 10.0+ MB\n"
     ]
    }
   ],
   "source": [
    "tabla_final.info()"
   ]
  },
  {
   "cell_type": "code",
   "execution_count": 36,
   "id": "4dcd2b91",
   "metadata": {},
   "outputs": [],
   "source": [
    "try:\n",
    "    for i in tabla_final.index:\n",
    "        tabla_final.loc[i,'diferencia_iva_query_ajustes'] = tabla_final.loc[i,'RET_IVA'] + tabla_final.loc[i,'iva_compensacion'] + tabla_final.loc[i,'iva_automatico'] + tabla_final.loc[i,'iva_ajustes_manual'] + tabla_final.loc[i,'iva_penalty'] + tabla_final.loc[i,'state_tax'] \n",
    "        tabla_final.loc[i,'diferencia_isr_query_ajustes'] = tabla_final.loc[i,'RET_ISR'] + tabla_final.loc[i,'isr_compensacion'] + tabla_final.loc[i,'isr_automatico'] + tabla_final.loc[i,'isr_ajustes_manual'] + tabla_final.loc[i,'isr_penalty']   \n",
    "        \n",
    "except:\n",
    "    for i in tabla_final.index:\n",
    "        tabla_final.loc[i,'diferencia_iva_query_ajustes'] = tabla_final.loc[i,'RET_IVA'] + tabla_final.loc[i,'iva_compensacion'] + tabla_final.loc[i,'iva_automatico'] + tabla_final.loc[i,'iva_ajustes_manual']  \n",
    "        tabla_final.loc[i,'diferencia_isr_query_ajustes'] = tabla_final.loc[i,'RET_ISR'] + tabla_final.loc[i,'isr_compensacion'] + tabla_final.loc[i,'isr_automatico'] + tabla_final.loc[i,'isr_ajustes_manual']  \n",
    "    \n"
   ]
  },
  {
   "cell_type": "code",
   "execution_count": 37,
   "id": "26c762eb",
   "metadata": {},
   "outputs": [],
   "source": [
    "tabla_final = tabla_final.round(2)"
   ]
  },
  {
   "cell_type": "code",
   "execution_count": 38,
   "id": "ceeafde5",
   "metadata": {},
   "outputs": [],
   "source": [
    "tabla_final.to_excel(f'C:/ruta/conciliaciones/conciliacion_{mes}.xlsx')"
   ]
  },
  {
   "cell_type": "code",
   "execution_count": 39,
   "id": "1f902bb7",
   "metadata": {},
   "outputs": [],
   "source": [
    "try:\n",
    "    \n",
    "    for i in tabla_final.index:\n",
    "        tabla_final.loc[i,'diferencia_iva'] = tabla_final.loc[i,'RET_IVA'] + tabla_final.loc[i,'iva_compensacion'] + tabla_final.loc[i,'iva_automatico'] + tabla_final.loc[i,'iva_manual_movimientos'] + tabla_final.loc[i,'iva_penalty'] + tabla_final.loc[i,'state_tax'] \n",
    "        tabla_final.loc[i,'diferencia_isr'] = tabla_final.loc[i,'RET_ISR'] +  tabla_final.loc[i,'isr_compensacion'] + tabla_final.loc[i,'isr_automatico'] + tabla_final.loc[i,'isr_manual_movimientos'] + tabla_final.loc[i,'isr_penalty']   \n",
    "\n",
    "except:\n",
    "    for i in tabla_final.index:\n",
    "        tabla_final.loc[i,'diferencia_iva'] = tabla_final.loc[i,'RET_IVA'] + tabla_final.loc[i,'iva_compensacion'] + tabla_final.loc[i,'iva_automatico'] + tabla_final.loc[i,'iva_manual_movimientos'] \n",
    "        tabla_final.loc[i,'diferencia_isr'] = tabla_final.loc[i,'RET_ISR'] +  tabla_final.loc[i,'isr_compensacion'] + tabla_final.loc[i,'isr_automatico'] + tabla_final.loc[i,'isr_manual_movimientos']   \n",
    "    "
   ]
  },
  {
   "cell_type": "code",
   "execution_count": null,
   "id": "5d979311",
   "metadata": {},
   "outputs": [],
   "source": []
  }
 ],
 "metadata": {
  "kernelspec": {
   "display_name": "Python 3",
   "language": "python",
   "name": "python3"
  },
  "language_info": {
   "codemirror_mode": {
    "name": "ipython",
    "version": 3
   },
   "file_extension": ".py",
   "mimetype": "text/x-python",
   "name": "python",
   "nbconvert_exporter": "python",
   "pygments_lexer": "ipython3",
   "version": "3.8.8"
  }
 },
 "nbformat": 4,
 "nbformat_minor": 5
}
